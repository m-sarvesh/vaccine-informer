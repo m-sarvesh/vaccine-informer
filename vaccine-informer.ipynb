{
 "cells": [
  {
   "cell_type": "code",
   "execution_count": 20,
   "id": "e2d14460",
   "metadata": {},
   "outputs": [],
   "source": [
    "import requests\n",
    "import json\n",
    "from datetime import datetime, timedelta"
   ]
  },
  {
   "cell_type": "code",
   "execution_count": 24,
   "id": "9e444500",
   "metadata": {},
   "outputs": [
    {
     "name": "stdout",
     "output_type": "stream",
     "text": [
      "2021-07-10 13:37:09.380940\n"
     ]
    }
   ],
   "source": [
    "# Get today's date and current time\n",
    "date_and_time_today = datetime.today()\n",
    "print(date_and_time_today)"
   ]
  },
  {
   "cell_type": "code",
   "execution_count": 28,
   "id": "00f7be89",
   "metadata": {},
   "outputs": [],
   "source": [
    "# For fetching the information with the help of pincodes make a list of pincodes \n",
    "pincodes = ['180001', '482004']\n",
    "# Number of days starting from today, whose information we need to fetch\n",
    "num_days = 7"
   ]
  },
  {
   "cell_type": "code",
   "execution_count": 48,
   "id": "35db9555",
   "metadata": {},
   "outputs": [
    {
     "data": {
      "text/plain": [
       "['100721', '110721', '120721', '130721', '140721', '150721', '160721']"
      ]
     },
     "execution_count": 48,
     "metadata": {},
     "output_type": "execute_result"
    }
   ],
   "source": [
    "# Generate dates of these seven days (including today)\n",
    "dates = []\n",
    "for i in range(num_days):\n",
    "    dates.append(date_and_time_today + timedelta(i))\n",
    "\n",
    "# Convert dates in a simple string format\n",
    "for i,date in enumerate(dates):\n",
    "    dates[i] = date.strftime(\"%d%m%y\")\n",
    "dates"
   ]
  },
  {
   "cell_type": "code",
   "execution_count": null,
   "id": "93a7b65e",
   "metadata": {},
   "outputs": [],
   "source": [
    "# Continuously fetch the information from the CoWin API\n",
    "\n",
    "while True:\n",
    "    for pin in pincodes:\n",
    "        for date in dates:\n",
    "            URL = \"https://cdn-api.co-vin.in/api/v2/appointment/sessions/public/calendarByPin?pincode={}&date={}\".format(pin, date)\n",
    "            response = requests.get(URL)\n",
    "            \n",
    "            # Check for the status of the response\n",
    "            if response.status_code == 500:\n",
    "                print(\"CoWin server is Down..!!\")\n",
    "            if response.status_code == 401:\n",
    "                print(\"Unauthorized access.\")\n",
    "            if response.status_code == 200:\n",
    "                json_data = response.json()\n",
    "                \n",
    "            # Extract information\n",
    "            if json_data[\"centers\"]:\n",
    "                for center in json_data[\"centers\"]:\n",
    "                    for session in center[\"sessions\"]:\n",
    "                        dashed_date = date[:2]+'-'+date[2:4]+'-'+date[4:]\n",
    "                        if session[\"available_capacity\"]:\n",
    "                            print(\"\\nPIN : \", pin)\n",
    "                            print(\"Date: \", dashed_date)\n",
    "                            print(\"Center Name: \", center[\"name\"])\n",
    "                            print(\"Center Address: \", center[\"address\"])\n",
    "                            print(\"Name of Vaccine: \", session[\"vaccine\"])\n",
    "                            print(\"Quantity of vaccines :\", session[\"available_capacity\"])\n"
   ]
  },
  {
   "cell_type": "code",
   "execution_count": null,
   "id": "351f8d05",
   "metadata": {},
   "outputs": [],
   "source": []
  }
 ],
 "metadata": {
  "kernelspec": {
   "display_name": "Python 3 (ipykernel)",
   "language": "python",
   "name": "python3"
  },
  "language_info": {
   "codemirror_mode": {
    "name": "ipython",
    "version": 3
   },
   "file_extension": ".py",
   "mimetype": "text/x-python",
   "name": "python",
   "nbconvert_exporter": "python",
   "pygments_lexer": "ipython3",
   "version": "3.9.5"
  }
 },
 "nbformat": 4,
 "nbformat_minor": 5
}
